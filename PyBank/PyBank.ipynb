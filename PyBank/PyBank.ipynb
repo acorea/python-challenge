{
 "cells": [
  {
   "cell_type": "code",
   "execution_count": 33,
   "metadata": {},
   "outputs": [],
   "source": [
    "#import csv\n",
    "import os\n",
    "import csv"
   ]
  },
  {
   "cell_type": "code",
   "execution_count": 34,
   "metadata": {},
   "outputs": [],
   "source": [
    "#path to find budget csv\n",
    "csvpath = os.path.join(\".\", \"Resources\", \"budget_data.csv\")\n",
    "\n",
    "with open(csvpath) as csvfile:\n",
    "    \n",
    "    csvreader = csv.reader(csvfile)\n"
   ]
  },
  {
   "cell_type": "code",
   "execution_count": 36,
   "metadata": {},
   "outputs": [],
   "source": [
    "# Define variables\n",
    "total_months = 0\n",
    "net_total = 0\n",
    "monthly_change = []\n",
    "previous_value = 0 \n",
    "average_change = 0\n",
    "greatest_increase = {'month': '', 'value': 0}\n",
    "greatest_decrease = {'month': '', 'value': 0}"
   ]
  },
  {
   "cell_type": "code",
   "execution_count": 38,
   "metadata": {},
   "outputs": [],
   "source": [
    "# Split the data on commas\n",
    "with open(csvpath) as csvfile: \n",
    "    csvreader = csv.reader(csvfile, delimiter=',')\n",
    "\n",
    "    header = next(csvreader)\n",
    "\n",
    "# Loop through the rows of data \n",
    "    for row in csvreader:\n",
    "        total_months = total_months + 1\n",
    "\n",
    "#Calculate the net total amount of Profits/Losses over the entire period\n",
    "        net_total = net_total + int(row[1])\n",
    "\n",
    "#Calculate the changes in Profits/Losses over the entire period\n",
    "        profit_change = int(row[1]) - previous_value \n",
    "        monthly_change.append(profit_change)\n",
    "        previous_value = int(row[1])\n",
    "\n",
    "#Greatest increase in profits (date & amount) over entire period\n",
    "        if greatest_increase['value'] < int(row[1]):\n",
    "            greatest_increase['month'] = row[0]\n",
    "            greatest_increase['value'] = int(row[1])\n",
    "\n",
    "#Greatest decrease in losses (date and amount) over the entire period\n",
    "        if greatest_decrease['value'] > int(row[1]):\n",
    "            greatest_decrease['month'] = row[0]\n",
    "            greatest_decrease['value'] = int(row[1])\n",
    "\n",
    "#Calculate the average change of profits/losses\n",
    "    average_change = sum(monthly_change) / total_months\n",
    "    \n",
    "       "
   ]
  },
  {
   "cell_type": "code",
   "execution_count": 41,
   "metadata": {},
   "outputs": [
    {
     "name": "stdout",
     "output_type": "stream",
     "text": [
      "Financial Analysis\n",
      "-------------------\n",
      "Total Months: 86\n",
      "Total: $38382578\n",
      "Average Change: $7803.48\n",
      "Greatest Increase in Profits: Feb-2012 ($1170593)\n",
      "Greatest Decrease in Losses:  Sep-2013 ($-1196225)\n",
      "\n"
     ]
    }
   ],
   "source": [
    "# Set format for printing\n",
    "output = (\n",
    "    f\"Financial Analysis\\n\"\n",
    "    f\"-------------------\\n\"\n",
    "    f\"Total Months: {total_months}\\n\"\n",
    "    f\"Total: ${net_total}\\n\"\n",
    "    f\"Average Change: ${round(average_change,2)}\\n\"\n",
    "    f\"Greatest Increase in Profits: {greatest_increase['month']} (${greatest_increase['value']})\\n\"\n",
    "    f\"Greatest Decrease in Losses:  {greatest_decrease['month']} (${greatest_decrease['value']})\\n\"\n",
    ")\n",
    "\n",
    "print(output)\n",
    "\n",
    "with open(\"analysis/output.txt\", \"w\") as txt_file: \n",
    "    txt_file.write(output)\n",
    "          "
   ]
  }
 ],
 "metadata": {
  "interpreter": {
   "hash": "b1b7b1aafd712f0c3c9d5ed14206ddd16150250cb00da6bfa1c7df749c3f57eb"
  },
  "kernelspec": {
   "display_name": "Python 3.6.10 64-bit ('PythonData': conda)",
   "name": "python3"
  },
  "language_info": {
   "codemirror_mode": {
    "name": "ipython",
    "version": 3
   },
   "file_extension": ".py",
   "mimetype": "text/x-python",
   "name": "python",
   "nbconvert_exporter": "python",
   "pygments_lexer": "ipython3",
   "version": "3.6.10"
  }
 },
 "nbformat": 4,
 "nbformat_minor": 4
}
